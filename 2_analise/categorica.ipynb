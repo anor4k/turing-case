{
 "cells": [
  {
   "cell_type": "code",
   "execution_count": 2,
   "metadata": {},
   "outputs": [],
   "source": [
    "import os\n",
    "try:\n",
    "\tos.chdir(os.path.join(os.getcwd(), '2_analise'))\n",
    "except:\n",
    "\tpass"
   ]
  },
  {
   "cell_type": "markdown",
   "metadata": {},
   "source": [
    " # Análise de Dados\n",
    " ## Projetos do Kickstarter\n",
    " ### Noel Viscome Eliezer\n",
    "\n",
    " Dataset: https://www.kaggle.com/kemical/kickstarter-projects\n"
   ]
  },
  {
   "cell_type": "code",
   "execution_count": 3,
   "metadata": {},
   "outputs": [],
   "source": [
    "import numpy as np\n",
    "import pandas as pd\n",
    "import matplotlib.pyplot as plt\n",
    "import seaborn as sns\n",
    "from scipy import stats\n"
   ]
  },
  {
   "cell_type": "code",
   "execution_count": 4,
   "metadata": {},
   "outputs": [],
   "source": [
    "kickst = pd.read_csv('ks-projects-201801.csv', parse_dates=['deadline', 'launched'])\n",
    "kickst = kickst[(kickst.pledged > 0) & (kickst.backers > 0)]\n",
    "kickst['pledged_ratio'] = kickst['pledged'] / kickst['goal']"
   ]
  },
  {
   "cell_type": "markdown",
   "metadata": {},
   "source": [
    " Utilizaremos a escala logarítmica para analisar os dados de maneira mais compreensiva, visto que temos projetos desde a casa das dezenas até milhares de dólares."
   ]
  },
  {
   "cell_type": "code",
   "execution_count": 5,
   "metadata": {},
   "outputs": [],
   "source": [
    "kickst['log_pledged_ratio'] = np.log10(kickst['pledged_ratio'])\n",
    "kickst['log_usd_pledged_real'] = np.log10(kickst['usd_pledged_real'])\n",
    "kickst['log_usd_goal_real'] = np.log10(kickst['usd_goal_real'])\n",
    "kickst['log_backers'] = np.log10(kickst['backers'])\n",
    "kickst = kickst.sample(10000)"
   ]
  },
  {
   "cell_type": "code",
   "execution_count": 6,
   "metadata": {},
   "outputs": [
    {
     "name": "stdout",
     "output_type": "stream",
     "text": [
      "<class 'pandas.core.frame.DataFrame'>\n",
      "Int64Index: 10000 entries, 154863 to 286075\n",
      "Data columns (total 20 columns):\n",
      "ID                      10000 non-null int64\n",
      "name                    10000 non-null object\n",
      "category                10000 non-null object\n",
      "main_category           10000 non-null object\n",
      "currency                10000 non-null object\n",
      "deadline                10000 non-null datetime64[ns]\n",
      "goal                    10000 non-null float64\n",
      "launched                10000 non-null datetime64[ns]\n",
      "pledged                 10000 non-null float64\n",
      "state                   10000 non-null object\n",
      "backers                 10000 non-null int64\n",
      "country                 10000 non-null object\n",
      "usd pledged             10000 non-null float64\n",
      "usd_pledged_real        10000 non-null float64\n",
      "usd_goal_real           10000 non-null float64\n",
      "pledged_ratio           10000 non-null float64\n",
      "log_pledged_ratio       10000 non-null float64\n",
      "log_usd_pledged_real    10000 non-null float64\n",
      "log_usd_goal_real       10000 non-null float64\n",
      "log_backers             10000 non-null float64\n",
      "dtypes: datetime64[ns](2), float64(10), int64(2), object(6)\n",
      "memory usage: 1.6+ MB\n"
     ]
    }
   ],
   "source": [
    "kickst.info()"
   ]
  },
  {
   "cell_type": "code",
   "execution_count": 7,
   "metadata": {},
   "outputs": [
    {
     "data": {
      "text/html": [
       "<div>\n",
       "<style scoped>\n",
       "    .dataframe tbody tr th:only-of-type {\n",
       "        vertical-align: middle;\n",
       "    }\n",
       "\n",
       "    .dataframe tbody tr th {\n",
       "        vertical-align: top;\n",
       "    }\n",
       "\n",
       "    .dataframe thead th {\n",
       "        text-align: right;\n",
       "    }\n",
       "</style>\n",
       "<table border=\"1\" class=\"dataframe\">\n",
       "  <thead>\n",
       "    <tr style=\"text-align: right;\">\n",
       "      <th></th>\n",
       "      <th>ID</th>\n",
       "      <th>goal</th>\n",
       "      <th>pledged</th>\n",
       "      <th>backers</th>\n",
       "      <th>usd pledged</th>\n",
       "      <th>usd_pledged_real</th>\n",
       "      <th>usd_goal_real</th>\n",
       "      <th>pledged_ratio</th>\n",
       "      <th>log_pledged_ratio</th>\n",
       "      <th>log_usd_pledged_real</th>\n",
       "      <th>log_usd_goal_real</th>\n",
       "      <th>log_backers</th>\n",
       "    </tr>\n",
       "  </thead>\n",
       "  <tbody>\n",
       "    <tr>\n",
       "      <th>count</th>\n",
       "      <td>1.000000e+04</td>\n",
       "      <td>1.000000e+04</td>\n",
       "      <td>1.000000e+04</td>\n",
       "      <td>10000.000000</td>\n",
       "      <td>1.000000e+04</td>\n",
       "      <td>1.000000e+04</td>\n",
       "      <td>1.000000e+04</td>\n",
       "      <td>1.000000e+04</td>\n",
       "      <td>10000.000000</td>\n",
       "      <td>10000.000000</td>\n",
       "      <td>10000.000000</td>\n",
       "      <td>10000.000000</td>\n",
       "    </tr>\n",
       "    <tr>\n",
       "      <th>mean</th>\n",
       "      <td>1.081477e+09</td>\n",
       "      <td>2.669721e+04</td>\n",
       "      <td>1.087078e+04</td>\n",
       "      <td>120.846000</td>\n",
       "      <td>7.986721e+03</td>\n",
       "      <td>1.028878e+04</td>\n",
       "      <td>2.566127e+04</td>\n",
       "      <td>2.543876e+00</td>\n",
       "      <td>-0.837685</td>\n",
       "      <td>2.901913</td>\n",
       "      <td>3.739597</td>\n",
       "      <td>1.274318</td>\n",
       "    </tr>\n",
       "    <tr>\n",
       "      <th>std</th>\n",
       "      <td>6.186842e+08</td>\n",
       "      <td>2.445084e+05</td>\n",
       "      <td>7.872974e+04</td>\n",
       "      <td>927.161654</td>\n",
       "      <td>6.811544e+04</td>\n",
       "      <td>7.708917e+04</td>\n",
       "      <td>2.449916e+05</td>\n",
       "      <td>7.124206e+01</td>\n",
       "      <td>1.203084</td>\n",
       "      <td>1.131719</td>\n",
       "      <td>0.715751</td>\n",
       "      <td>0.805459</td>\n",
       "    </tr>\n",
       "    <tr>\n",
       "      <th>min</th>\n",
       "      <td>8.486250e+05</td>\n",
       "      <td>1.000000e+00</td>\n",
       "      <td>1.000000e+00</td>\n",
       "      <td>1.000000</td>\n",
       "      <td>0.000000e+00</td>\n",
       "      <td>5.300000e-01</td>\n",
       "      <td>7.400000e-01</td>\n",
       "      <td>5.000000e-08</td>\n",
       "      <td>-7.301030</td>\n",
       "      <td>-0.275724</td>\n",
       "      <td>-0.130768</td>\n",
       "      <td>0.000000</td>\n",
       "    </tr>\n",
       "    <tr>\n",
       "      <th>25%</th>\n",
       "      <td>5.552477e+08</td>\n",
       "      <td>2.000000e+03</td>\n",
       "      <td>1.500000e+02</td>\n",
       "      <td>4.000000</td>\n",
       "      <td>9.300000e+01</td>\n",
       "      <td>1.500000e+02</td>\n",
       "      <td>2.000000e+03</td>\n",
       "      <td>2.655278e-02</td>\n",
       "      <td>-1.575890</td>\n",
       "      <td>2.176091</td>\n",
       "      <td>3.301030</td>\n",
       "      <td>0.602060</td>\n",
       "    </tr>\n",
       "    <tr>\n",
       "      <th>50%</th>\n",
       "      <td>1.073257e+09</td>\n",
       "      <td>5.264000e+03</td>\n",
       "      <td>1.121000e+03</td>\n",
       "      <td>20.000000</td>\n",
       "      <td>7.164500e+02</td>\n",
       "      <td>1.122000e+03</td>\n",
       "      <td>5.500000e+03</td>\n",
       "      <td>3.006081e-01</td>\n",
       "      <td>-0.521999</td>\n",
       "      <td>3.049993</td>\n",
       "      <td>3.740363</td>\n",
       "      <td>1.301030</td>\n",
       "    </tr>\n",
       "    <tr>\n",
       "      <th>75%</th>\n",
       "      <td>1.622714e+09</td>\n",
       "      <td>1.600000e+04</td>\n",
       "      <td>5.177500e+03</td>\n",
       "      <td>69.000000</td>\n",
       "      <td>3.827178e+03</td>\n",
       "      <td>5.144168e+03</td>\n",
       "      <td>1.536950e+04</td>\n",
       "      <td>1.114907e+00</td>\n",
       "      <td>0.047239</td>\n",
       "      <td>3.711315</td>\n",
       "      <td>4.186660</td>\n",
       "      <td>1.838849</td>\n",
       "    </tr>\n",
       "    <tr>\n",
       "      <th>max</th>\n",
       "      <td>2.147370e+09</td>\n",
       "      <td>2.000000e+07</td>\n",
       "      <td>3.986929e+06</td>\n",
       "      <td>73986.000000</td>\n",
       "      <td>3.986929e+06</td>\n",
       "      <td>3.986929e+06</td>\n",
       "      <td>2.000000e+07</td>\n",
       "      <td>6.435000e+03</td>\n",
       "      <td>3.808549</td>\n",
       "      <td>6.600639</td>\n",
       "      <td>7.301030</td>\n",
       "      <td>4.869150</td>\n",
       "    </tr>\n",
       "  </tbody>\n",
       "</table>\n",
       "</div>"
      ],
      "text/plain": [
       "                 ID          goal       pledged       backers   usd pledged  \\\n",
       "count  1.000000e+04  1.000000e+04  1.000000e+04  10000.000000  1.000000e+04   \n",
       "mean   1.081477e+09  2.669721e+04  1.087078e+04    120.846000  7.986721e+03   \n",
       "std    6.186842e+08  2.445084e+05  7.872974e+04    927.161654  6.811544e+04   \n",
       "min    8.486250e+05  1.000000e+00  1.000000e+00      1.000000  0.000000e+00   \n",
       "25%    5.552477e+08  2.000000e+03  1.500000e+02      4.000000  9.300000e+01   \n",
       "50%    1.073257e+09  5.264000e+03  1.121000e+03     20.000000  7.164500e+02   \n",
       "75%    1.622714e+09  1.600000e+04  5.177500e+03     69.000000  3.827178e+03   \n",
       "max    2.147370e+09  2.000000e+07  3.986929e+06  73986.000000  3.986929e+06   \n",
       "\n",
       "       usd_pledged_real  usd_goal_real  pledged_ratio  log_pledged_ratio  \\\n",
       "count      1.000000e+04   1.000000e+04   1.000000e+04       10000.000000   \n",
       "mean       1.028878e+04   2.566127e+04   2.543876e+00          -0.837685   \n",
       "std        7.708917e+04   2.449916e+05   7.124206e+01           1.203084   \n",
       "min        5.300000e-01   7.400000e-01   5.000000e-08          -7.301030   \n",
       "25%        1.500000e+02   2.000000e+03   2.655278e-02          -1.575890   \n",
       "50%        1.122000e+03   5.500000e+03   3.006081e-01          -0.521999   \n",
       "75%        5.144168e+03   1.536950e+04   1.114907e+00           0.047239   \n",
       "max        3.986929e+06   2.000000e+07   6.435000e+03           3.808549   \n",
       "\n",
       "       log_usd_pledged_real  log_usd_goal_real   log_backers  \n",
       "count          10000.000000       10000.000000  10000.000000  \n",
       "mean               2.901913           3.739597      1.274318  \n",
       "std                1.131719           0.715751      0.805459  \n",
       "min               -0.275724          -0.130768      0.000000  \n",
       "25%                2.176091           3.301030      0.602060  \n",
       "50%                3.049993           3.740363      1.301030  \n",
       "75%                3.711315           4.186660      1.838849  \n",
       "max                6.600639           7.301030      4.869150  "
      ]
     },
     "execution_count": 7,
     "metadata": {},
     "output_type": "execute_result"
    }
   ],
   "source": [
    "kickst.describe()"
   ]
  },
  {
   "cell_type": "code",
   "execution_count": 8,
   "metadata": {},
   "outputs": [
    {
     "data": {
      "text/html": [
       "<div>\n",
       "<style scoped>\n",
       "    .dataframe tbody tr th:only-of-type {\n",
       "        vertical-align: middle;\n",
       "    }\n",
       "\n",
       "    .dataframe tbody tr th {\n",
       "        vertical-align: top;\n",
       "    }\n",
       "\n",
       "    .dataframe thead th {\n",
       "        text-align: right;\n",
       "    }\n",
       "</style>\n",
       "<table border=\"1\" class=\"dataframe\">\n",
       "  <thead>\n",
       "    <tr style=\"text-align: right;\">\n",
       "      <th></th>\n",
       "      <th>ID</th>\n",
       "      <th>name</th>\n",
       "      <th>category</th>\n",
       "      <th>main_category</th>\n",
       "      <th>currency</th>\n",
       "      <th>deadline</th>\n",
       "      <th>goal</th>\n",
       "      <th>launched</th>\n",
       "      <th>pledged</th>\n",
       "      <th>state</th>\n",
       "      <th>backers</th>\n",
       "      <th>country</th>\n",
       "      <th>usd pledged</th>\n",
       "      <th>usd_pledged_real</th>\n",
       "      <th>usd_goal_real</th>\n",
       "      <th>pledged_ratio</th>\n",
       "      <th>log_pledged_ratio</th>\n",
       "      <th>log_usd_pledged_real</th>\n",
       "      <th>log_usd_goal_real</th>\n",
       "      <th>log_backers</th>\n",
       "    </tr>\n",
       "  </thead>\n",
       "  <tbody>\n",
       "    <tr>\n",
       "      <th>154863</th>\n",
       "      <td>1787384108</td>\n",
       "      <td>Got Heart Athletic T-Shirt</td>\n",
       "      <td>Graphic Design</td>\n",
       "      <td>Design</td>\n",
       "      <td>USD</td>\n",
       "      <td>2012-09-29</td>\n",
       "      <td>2000.0</td>\n",
       "      <td>2012-08-15 02:01:03</td>\n",
       "      <td>260.0</td>\n",
       "      <td>failed</td>\n",
       "      <td>9</td>\n",
       "      <td>US</td>\n",
       "      <td>260.00</td>\n",
       "      <td>260.0</td>\n",
       "      <td>2000.00</td>\n",
       "      <td>0.130000</td>\n",
       "      <td>-0.886057</td>\n",
       "      <td>2.414973</td>\n",
       "      <td>3.301030</td>\n",
       "      <td>0.954243</td>\n",
       "    </tr>\n",
       "    <tr>\n",
       "      <th>354181</th>\n",
       "      <td>874479075</td>\n",
       "      <td>Deemable Tech App</td>\n",
       "      <td>Radio &amp; Podcasts</td>\n",
       "      <td>Publishing</td>\n",
       "      <td>USD</td>\n",
       "      <td>2013-03-26</td>\n",
       "      <td>1000.0</td>\n",
       "      <td>2013-02-25 22:06:23</td>\n",
       "      <td>1031.0</td>\n",
       "      <td>successful</td>\n",
       "      <td>28</td>\n",
       "      <td>US</td>\n",
       "      <td>1031.00</td>\n",
       "      <td>1031.0</td>\n",
       "      <td>1000.00</td>\n",
       "      <td>1.031000</td>\n",
       "      <td>0.013259</td>\n",
       "      <td>3.013259</td>\n",
       "      <td>3.000000</td>\n",
       "      <td>1.447158</td>\n",
       "    </tr>\n",
       "    <tr>\n",
       "      <th>61195</th>\n",
       "      <td>1311319642</td>\n",
       "      <td>Give the Hour - because doing a little means a...</td>\n",
       "      <td>Web</td>\n",
       "      <td>Technology</td>\n",
       "      <td>GBP</td>\n",
       "      <td>2015-05-01</td>\n",
       "      <td>5000.0</td>\n",
       "      <td>2015-03-20 08:16:15</td>\n",
       "      <td>1625.0</td>\n",
       "      <td>failed</td>\n",
       "      <td>18</td>\n",
       "      <td>GB</td>\n",
       "      <td>2425.20</td>\n",
       "      <td>2504.7</td>\n",
       "      <td>7706.77</td>\n",
       "      <td>0.325000</td>\n",
       "      <td>-0.488117</td>\n",
       "      <td>3.398756</td>\n",
       "      <td>3.886872</td>\n",
       "      <td>1.255273</td>\n",
       "    </tr>\n",
       "    <tr>\n",
       "      <th>112160</th>\n",
       "      <td>1569781551</td>\n",
       "      <td>Hot Rhythm Holiday 2014</td>\n",
       "      <td>Jazz</td>\n",
       "      <td>Music</td>\n",
       "      <td>USD</td>\n",
       "      <td>2013-12-31</td>\n",
       "      <td>6000.0</td>\n",
       "      <td>2013-12-01 17:30:23</td>\n",
       "      <td>6985.0</td>\n",
       "      <td>successful</td>\n",
       "      <td>41</td>\n",
       "      <td>US</td>\n",
       "      <td>6985.00</td>\n",
       "      <td>6985.0</td>\n",
       "      <td>6000.00</td>\n",
       "      <td>1.164167</td>\n",
       "      <td>0.066015</td>\n",
       "      <td>3.844166</td>\n",
       "      <td>3.778151</td>\n",
       "      <td>1.612784</td>\n",
       "    </tr>\n",
       "    <tr>\n",
       "      <th>236855</th>\n",
       "      <td>273970108</td>\n",
       "      <td>Gankfu - Bringing Gamers together</td>\n",
       "      <td>Video Games</td>\n",
       "      <td>Games</td>\n",
       "      <td>EUR</td>\n",
       "      <td>2017-01-07</td>\n",
       "      <td>15000.0</td>\n",
       "      <td>2016-12-29 15:13:40</td>\n",
       "      <td>112.0</td>\n",
       "      <td>failed</td>\n",
       "      <td>4</td>\n",
       "      <td>FR</td>\n",
       "      <td>117.28</td>\n",
       "      <td>119.4</td>\n",
       "      <td>15991.47</td>\n",
       "      <td>0.007467</td>\n",
       "      <td>-2.126873</td>\n",
       "      <td>2.077004</td>\n",
       "      <td>4.203888</td>\n",
       "      <td>0.602060</td>\n",
       "    </tr>\n",
       "  </tbody>\n",
       "</table>\n",
       "</div>"
      ],
      "text/plain": [
       "                ID                                               name  \\\n",
       "154863  1787384108                         Got Heart Athletic T-Shirt   \n",
       "354181   874479075                                  Deemable Tech App   \n",
       "61195   1311319642  Give the Hour - because doing a little means a...   \n",
       "112160  1569781551                            Hot Rhythm Holiday 2014   \n",
       "236855   273970108                  Gankfu - Bringing Gamers together   \n",
       "\n",
       "                category main_category currency   deadline     goal  \\\n",
       "154863    Graphic Design        Design      USD 2012-09-29   2000.0   \n",
       "354181  Radio & Podcasts    Publishing      USD 2013-03-26   1000.0   \n",
       "61195                Web    Technology      GBP 2015-05-01   5000.0   \n",
       "112160              Jazz         Music      USD 2013-12-31   6000.0   \n",
       "236855       Video Games         Games      EUR 2017-01-07  15000.0   \n",
       "\n",
       "                  launched  pledged       state  backers country  usd pledged  \\\n",
       "154863 2012-08-15 02:01:03    260.0      failed        9      US       260.00   \n",
       "354181 2013-02-25 22:06:23   1031.0  successful       28      US      1031.00   \n",
       "61195  2015-03-20 08:16:15   1625.0      failed       18      GB      2425.20   \n",
       "112160 2013-12-01 17:30:23   6985.0  successful       41      US      6985.00   \n",
       "236855 2016-12-29 15:13:40    112.0      failed        4      FR       117.28   \n",
       "\n",
       "        usd_pledged_real  usd_goal_real  pledged_ratio  log_pledged_ratio  \\\n",
       "154863             260.0        2000.00       0.130000          -0.886057   \n",
       "354181            1031.0        1000.00       1.031000           0.013259   \n",
       "61195             2504.7        7706.77       0.325000          -0.488117   \n",
       "112160            6985.0        6000.00       1.164167           0.066015   \n",
       "236855             119.4       15991.47       0.007467          -2.126873   \n",
       "\n",
       "        log_usd_pledged_real  log_usd_goal_real  log_backers  \n",
       "154863              2.414973           3.301030     0.954243  \n",
       "354181              3.013259           3.000000     1.447158  \n",
       "61195               3.398756           3.886872     1.255273  \n",
       "112160              3.844166           3.778151     1.612784  \n",
       "236855              2.077004           4.203888     0.602060  "
      ]
     },
     "execution_count": 8,
     "metadata": {},
     "output_type": "execute_result"
    }
   ],
   "source": [
    "kickst.head()"
   ]
  },
  {
   "cell_type": "markdown",
   "metadata": {},
   "source": [
    " A primeira feature categórica que é interessante de ser analisada é a divisão por categorias. Primeiro vamos observar a quantidade de projetos por categoria principal:"
   ]
  },
  {
   "cell_type": "code",
   "execution_count": 9,
   "metadata": {},
   "outputs": [
    {
     "data": {
      "text/plain": [
       "<matplotlib.axes._subplots.AxesSubplot at 0x1a27c0d630>"
      ]
     },
     "execution_count": 9,
     "metadata": {},
     "output_type": "execute_result"
    },
    {
     "data": {
      "image/png": "[encoded data removed]",
      "text/plain": [
       "<Figure size 432x288 with 1 Axes>"
      ]
     },
     "metadata": {
      "needs_background": "light"
     },
     "output_type": "display_data"
    }
   ],
   "source": [
    "sns.countplot(y = 'main_category', order = kickst['main_category'].value_counts().index, data = kickst)"
   ]
  },
  {
   "cell_type": "markdown",
   "metadata": {},
   "source": [
    " O gráfico abaixo, por outro lado, estima o valor médio de cada projeto por categoria (em escala logarítmica), e percebemos que é majoritariamente uniforme."
   ]
  },
  {
   "cell_type": "code",
   "execution_count": 10,
   "metadata": {},
   "outputs": [
    {
     "data": {
      "text/plain": [
       "<matplotlib.axes._subplots.AxesSubplot at 0x1a2681b6a0>"
      ]
     },
     "execution_count": 10,
     "metadata": {},
     "output_type": "execute_result"
    },
    {
     "data": {
      "image/png": "[encoded data removed]",
      "text/plain": [
       "<Figure size 432x288 with 1 Axes>"
      ]
     },
     "metadata": {
      "needs_background": "light"
     },
     "output_type": "display_data"
    }
   ],
   "source": [
    "sns.barplot(x = 'log_usd_pledged_real', y = 'main_category', data = kickst, order = kickst['main_category'].value_counts().index)"
   ]
  },
  {
   "cell_type": "markdown",
   "metadata": {},
   "source": [
    " Já no gráfico abaixo comparamos a quantidade de projetos bem sucedidos e cancelados ou que falharam. Há também projetos em andamento, suspensos ou sem categoria, mas não foram inclusos devido à pouca representatividade."
   ]
  },
  {
   "cell_type": "code",
   "execution_count": 11,
   "metadata": {},
   "outputs": [
    {
     "data": {
      "image/png": "[encoded data removed]",
      "text/plain": [
       "<Figure size 720x576 with 1 Axes>"
      ]
     },
     "metadata": {
      "needs_background": "light"
     },
     "output_type": "display_data"
    }
   ],
   "source": [
    "plt.figure(figsize= (10, 8))\n",
    "sns.countplot(y = 'state', hue = kickst['main_category'], hue_order = kickst['main_category'].value_counts().index, data = kickst[(kickst.state == 'successful') | (kickst.state == 'failed') | (kickst.state == 'canceled')])\n",
    "plt.show()\n"
   ]
  },
  {
   "cell_type": "markdown",
   "metadata": {},
   "source": [
    " Os gráficos abaixo mostram a média de arrecadação em relação à meta para cada categoria quando todos os projetos são inclusos, e apenas quando incluímos os projetos bem-sucedidos."
   ]
  },
  {
   "cell_type": "code",
   "execution_count": 12,
   "metadata": {},
   "outputs": [
    {
     "data": {
      "text/plain": [
       "<matplotlib.axes._subplots.AxesSubplot at 0x1a2780cf28>"
      ]
     },
     "execution_count": 12,
     "metadata": {},
     "output_type": "execute_result"
    },
    {
     "data": {
      "image/png": "[encoded data removed]",
      "text/plain": [
       "<Figure size 432x288 with 1 Axes>"
      ]
     },
     "metadata": {
      "needs_background": "light"
     },
     "output_type": "display_data"
    }
   ],
   "source": [
    "sns.barplot(x = 'log_pledged_ratio', y = 'main_category', data = kickst, order = kickst['main_category'].value_counts().index)"
   ]
  },
  {
   "cell_type": "code",
   "execution_count": 13,
   "metadata": {},
   "outputs": [
    {
     "data": {
      "text/plain": [
       "<matplotlib.axes._subplots.AxesSubplot at 0x1a26765c18>"
      ]
     },
     "execution_count": 13,
     "metadata": {},
     "output_type": "execute_result"
    },
    {
     "data": {
      "image/png": "[encoded data removed]",
      "text/plain": [
       "<Figure size 432x288 with 1 Axes>"
      ]
     },
     "metadata": {
      "needs_background": "light"
     },
     "output_type": "display_data"
    }
   ],
   "source": [
    "sns.barplot(x = 'log_pledged_ratio', y = 'main_category', data = kickst[kickst.state == \"successful\"], order = kickst['main_category'].value_counts().index)"
   ]
  },
  {
   "cell_type": "code",
   "execution_count": null,
   "metadata": {},
   "outputs": [],
   "source": []
  }
 ],
 "metadata": {
  "file_extension": ".py",
  "kernelspec": {
   "display_name": "Python 3",
   "language": "python",
   "name": "python3"
  },
  "language_info": {
   "codemirror_mode": {
    "name": "ipython",
    "version": 3
   },
   "file_extension": ".py",
   "mimetype": "text/x-python",
   "name": "python",
   "nbconvert_exporter": "python",
   "pygments_lexer": "ipython3",
   "version": "3.7.3"
  },
  "mimetype": "text/x-python",
  "name": "python",
  "npconvert_exporter": "python",
  "pygments_lexer": "ipython3",
  "version": 3
 },
 "nbformat": 4,
 "nbformat_minor": 2
}
