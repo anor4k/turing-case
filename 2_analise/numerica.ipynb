{
 "cells": [
  {
   "cell_type": "code",
   "execution_count": 1,
   "metadata": {},
   "outputs": [],
   "source": [
    "import os\n",
    "try:\n",
    "\tos.chdir(os.path.join(os.getcwd(), '2_analise'))\n",
    "except:\n",
    "\tpass"
   ]
  },
  {
   "cell_type": "markdown",
   "metadata": {},
   "source": [
    " # Análise de Dados\n",
    " ## Projetos do Kickstarter\n",
    " ### Noel Viscome Eliezer\n",
    "\n",
    " Dataset: https://www.kaggle.com/kemical/kickstarter-projects\n"
   ]
  },
  {
   "cell_type": "code",
   "execution_count": 2,
   "metadata": {},
   "outputs": [],
   "source": [
    "import numpy as np\n",
    "import pandas as pd\n",
    "import matplotlib.pyplot as plt\n",
    "import seaborn as sns\n",
    "from scipy import stats\n"
   ]
  },
  {
   "cell_type": "code",
   "execution_count": 3,
   "metadata": {},
   "outputs": [],
   "source": [
    "kickst = pd.read_csv('ks-projects-201801.csv', parse_dates=['deadline', 'launched'])\n",
    "kickst = kickst[(kickst.pledged > 0) & (kickst.backers > 0)]\n",
    "kickst['pledged_ratio'] = kickst['pledged'] / kickst['goal']"
   ]
  },
  {
   "cell_type": "markdown",
   "metadata": {},
   "source": [
    " Usar escala logarítmica torna a visualização dos dados mais simples, e coloca acima de 0 os projetos que atingiram a meta, e abaixo de 0 os que não atingiram"
   ]
  },
  {
   "cell_type": "code",
   "execution_count": 4,
   "metadata": {},
   "outputs": [],
   "source": [
    "kickst['log_pledged_ratio'] = np.log10(kickst['pledged_ratio'])\n",
    "kickst['log_usd_pledged_real'] = np.log10(kickst['usd_pledged_real'])\n",
    "kickst['log_usd_goal_real'] = np.log10(kickst['usd_goal_real'])\n",
    "kickst['log_backers'] = np.log10(kickst['backers'])\n",
    "kickst = kickst.sample(10000)"
   ]
  },
  {
   "cell_type": "code",
   "execution_count": 5,
   "metadata": {},
   "outputs": [
    {
     "name": "stdout",
     "output_type": "stream",
     "text": [
      "<class 'pandas.core.frame.DataFrame'>\n",
      "Int64Index: 10000 entries, 316390 to 314565\n",
      "Data columns (total 20 columns):\n",
      "ID                      10000 non-null int64\n",
      "name                    9999 non-null object\n",
      "category                10000 non-null object\n",
      "main_category           10000 non-null object\n",
      "currency                10000 non-null object\n",
      "deadline                10000 non-null datetime64[ns]\n",
      "goal                    10000 non-null float64\n",
      "launched                10000 non-null datetime64[ns]\n",
      "pledged                 10000 non-null float64\n",
      "state                   10000 non-null object\n",
      "backers                 10000 non-null int64\n",
      "country                 10000 non-null object\n",
      "usd pledged             10000 non-null float64\n",
      "usd_pledged_real        10000 non-null float64\n",
      "usd_goal_real           10000 non-null float64\n",
      "pledged_ratio           10000 non-null float64\n",
      "log_pledged_ratio       10000 non-null float64\n",
      "log_usd_pledged_real    10000 non-null float64\n",
      "log_usd_goal_real       10000 non-null float64\n",
      "log_backers             10000 non-null float64\n",
      "dtypes: datetime64[ns](2), float64(10), int64(2), object(6)\n",
      "memory usage: 1.6+ MB\n"
     ]
    }
   ],
   "source": [
    "kickst.info()"
   ]
  },
  {
   "cell_type": "code",
   "execution_count": 6,
   "metadata": {},
   "outputs": [
    {
     "data": {
      "text/html": [
       "<div>\n",
       "<style scoped>\n",
       "    .dataframe tbody tr th:only-of-type {\n",
       "        vertical-align: middle;\n",
       "    }\n",
       "\n",
       "    .dataframe tbody tr th {\n",
       "        vertical-align: top;\n",
       "    }\n",
       "\n",
       "    .dataframe thead th {\n",
       "        text-align: right;\n",
       "    }\n",
       "</style>\n",
       "<table border=\"1\" class=\"dataframe\">\n",
       "  <thead>\n",
       "    <tr style=\"text-align: right;\">\n",
       "      <th></th>\n",
       "      <th>ID</th>\n",
       "      <th>goal</th>\n",
       "      <th>pledged</th>\n",
       "      <th>backers</th>\n",
       "      <th>usd pledged</th>\n",
       "      <th>usd_pledged_real</th>\n",
       "      <th>usd_goal_real</th>\n",
       "      <th>pledged_ratio</th>\n",
       "      <th>log_pledged_ratio</th>\n",
       "      <th>log_usd_pledged_real</th>\n",
       "      <th>log_usd_goal_real</th>\n",
       "      <th>log_backers</th>\n",
       "    </tr>\n",
       "  </thead>\n",
       "  <tbody>\n",
       "    <tr>\n",
       "      <th>count</th>\n",
       "      <td>1.000000e+04</td>\n",
       "      <td>1.000000e+04</td>\n",
       "      <td>1.000000e+04</td>\n",
       "      <td>10000.000000</td>\n",
       "      <td>1.000000e+04</td>\n",
       "      <td>1.000000e+04</td>\n",
       "      <td>1.000000e+04</td>\n",
       "      <td>1.000000e+04</td>\n",
       "      <td>10000.000000</td>\n",
       "      <td>10000.000000</td>\n",
       "      <td>10000.000000</td>\n",
       "      <td>10000.000000</td>\n",
       "    </tr>\n",
       "    <tr>\n",
       "      <th>mean</th>\n",
       "      <td>1.068889e+09</td>\n",
       "      <td>5.456209e+04</td>\n",
       "      <td>9.971578e+03</td>\n",
       "      <td>108.308500</td>\n",
       "      <td>7.650978e+03</td>\n",
       "      <td>9.526651e+03</td>\n",
       "      <td>5.207957e+04</td>\n",
       "      <td>1.287529e+00</td>\n",
       "      <td>-0.862002</td>\n",
       "      <td>2.888488</td>\n",
       "      <td>3.750489</td>\n",
       "      <td>1.267332</td>\n",
       "    </tr>\n",
       "    <tr>\n",
       "      <th>std</th>\n",
       "      <td>6.219585e+08</td>\n",
       "      <td>1.481471e+06</td>\n",
       "      <td>5.340781e+04</td>\n",
       "      <td>503.596364</td>\n",
       "      <td>4.301262e+04</td>\n",
       "      <td>5.208348e+04</td>\n",
       "      <td>1.486336e+06</td>\n",
       "      <td>1.030198e+01</td>\n",
       "      <td>1.220102</td>\n",
       "      <td>1.144844</td>\n",
       "      <td>0.717134</td>\n",
       "      <td>0.809510</td>\n",
       "    </tr>\n",
       "    <tr>\n",
       "      <th>min</th>\n",
       "      <td>1.381190e+05</td>\n",
       "      <td>1.000000e+00</td>\n",
       "      <td>1.000000e+00</td>\n",
       "      <td>1.000000</td>\n",
       "      <td>0.000000e+00</td>\n",
       "      <td>5.300000e-01</td>\n",
       "      <td>1.000000e+00</td>\n",
       "      <td>1.000000e-08</td>\n",
       "      <td>-8.000000</td>\n",
       "      <td>-0.275724</td>\n",
       "      <td>0.000000</td>\n",
       "      <td>0.000000</td>\n",
       "    </tr>\n",
       "    <tr>\n",
       "      <th>25%</th>\n",
       "      <td>5.315194e+08</td>\n",
       "      <td>2.000000e+03</td>\n",
       "      <td>1.360000e+02</td>\n",
       "      <td>4.000000</td>\n",
       "      <td>8.686250e+01</td>\n",
       "      <td>1.350000e+02</td>\n",
       "      <td>2.000000e+03</td>\n",
       "      <td>2.500000e-02</td>\n",
       "      <td>-1.602060</td>\n",
       "      <td>2.130334</td>\n",
       "      <td>3.301030</td>\n",
       "      <td>0.602060</td>\n",
       "    </tr>\n",
       "    <tr>\n",
       "      <th>50%</th>\n",
       "      <td>1.063211e+09</td>\n",
       "      <td>5.250000e+03</td>\n",
       "      <td>1.156000e+03</td>\n",
       "      <td>20.000000</td>\n",
       "      <td>7.125350e+02</td>\n",
       "      <td>1.155005e+03</td>\n",
       "      <td>5.500000e+03</td>\n",
       "      <td>2.797521e-01</td>\n",
       "      <td>-0.553227</td>\n",
       "      <td>3.062584</td>\n",
       "      <td>3.740363</td>\n",
       "      <td>1.301030</td>\n",
       "    </tr>\n",
       "    <tr>\n",
       "      <th>75%</th>\n",
       "      <td>1.612536e+09</td>\n",
       "      <td>1.500000e+04</td>\n",
       "      <td>5.237500e+03</td>\n",
       "      <td>73.000000</td>\n",
       "      <td>3.994000e+03</td>\n",
       "      <td>5.211432e+03</td>\n",
       "      <td>1.500000e+04</td>\n",
       "      <td>1.104628e+00</td>\n",
       "      <td>0.043216</td>\n",
       "      <td>3.716957</td>\n",
       "      <td>4.176091</td>\n",
       "      <td>1.863323</td>\n",
       "    </tr>\n",
       "    <tr>\n",
       "      <th>max</th>\n",
       "      <td>2.146606e+09</td>\n",
       "      <td>1.000000e+08</td>\n",
       "      <td>2.209270e+06</td>\n",
       "      <td>27060.000000</td>\n",
       "      <td>1.552257e+06</td>\n",
       "      <td>2.209270e+06</td>\n",
       "      <td>1.000000e+08</td>\n",
       "      <td>7.070000e+02</td>\n",
       "      <td>2.849419</td>\n",
       "      <td>6.344249</td>\n",
       "      <td>8.000000</td>\n",
       "      <td>4.432328</td>\n",
       "    </tr>\n",
       "  </tbody>\n",
       "</table>\n",
       "</div>"
      ],
      "text/plain": [
       "                 ID          goal       pledged       backers   usd pledged  \\\n",
       "count  1.000000e+04  1.000000e+04  1.000000e+04  10000.000000  1.000000e+04   \n",
       "mean   1.068889e+09  5.456209e+04  9.971578e+03    108.308500  7.650978e+03   \n",
       "std    6.219585e+08  1.481471e+06  5.340781e+04    503.596364  4.301262e+04   \n",
       "min    1.381190e+05  1.000000e+00  1.000000e+00      1.000000  0.000000e+00   \n",
       "25%    5.315194e+08  2.000000e+03  1.360000e+02      4.000000  8.686250e+01   \n",
       "50%    1.063211e+09  5.250000e+03  1.156000e+03     20.000000  7.125350e+02   \n",
       "75%    1.612536e+09  1.500000e+04  5.237500e+03     73.000000  3.994000e+03   \n",
       "max    2.146606e+09  1.000000e+08  2.209270e+06  27060.000000  1.552257e+06   \n",
       "\n",
       "       usd_pledged_real  usd_goal_real  pledged_ratio  log_pledged_ratio  \\\n",
       "count      1.000000e+04   1.000000e+04   1.000000e+04       10000.000000   \n",
       "mean       9.526651e+03   5.207957e+04   1.287529e+00          -0.862002   \n",
       "std        5.208348e+04   1.486336e+06   1.030198e+01           1.220102   \n",
       "min        5.300000e-01   1.000000e+00   1.000000e-08          -8.000000   \n",
       "25%        1.350000e+02   2.000000e+03   2.500000e-02          -1.602060   \n",
       "50%        1.155005e+03   5.500000e+03   2.797521e-01          -0.553227   \n",
       "75%        5.211432e+03   1.500000e+04   1.104628e+00           0.043216   \n",
       "max        2.209270e+06   1.000000e+08   7.070000e+02           2.849419   \n",
       "\n",
       "       log_usd_pledged_real  log_usd_goal_real   log_backers  \n",
       "count          10000.000000       10000.000000  10000.000000  \n",
       "mean               2.888488           3.750489      1.267332  \n",
       "std                1.144844           0.717134      0.809510  \n",
       "min               -0.275724           0.000000      0.000000  \n",
       "25%                2.130334           3.301030      0.602060  \n",
       "50%                3.062584           3.740363      1.301030  \n",
       "75%                3.716957           4.176091      1.863323  \n",
       "max                6.344249           8.000000      4.432328  "
      ]
     },
     "execution_count": 6,
     "metadata": {},
     "output_type": "execute_result"
    }
   ],
   "source": [
    "kickst.describe()"
   ]
  },
  {
   "cell_type": "markdown",
   "metadata": {},
   "source": [
    " Analisando a distribuição, podemos perceber que há uma concentração inicial de projetos com backing de apenas US$1.\n",
    " Após isso, gradualmente cresce e se concentra principalmente entre projetos com aproximadamente US$900 e US$20,000."
   ]
  },
  {
   "cell_type": "code",
   "execution_count": 7,
   "metadata": {},
   "outputs": [
    {
     "data": {
      "text/plain": [
       "(array([ 289.,  267.,  502.,  971., 1325., 1560., 2070., 1880.,  817.,\n",
       "         242.,   61.,   16.]),\n",
       " array([-0.27572413,  0.27594028,  0.82760469,  1.3792691 ,  1.93093351,\n",
       "         2.48259792,  3.03426233,  3.58592674,  4.13759115,  4.68925556,\n",
       "         5.24091997,  5.79258438,  6.3442488 ]),\n",
       " <a list of 12 Patch objects>)"
      ]
     },
     "execution_count": 7,
     "metadata": {},
     "output_type": "execute_result"
    },
    {
     "data": {
      "image/png": "[encoded data removed]",
      "text/plain": [
       "<Figure size 432x288 with 1 Axes>"
      ]
     },
     "metadata": {
      "needs_background": "light"
     },
     "output_type": "display_data"
    }
   ],
   "source": [
    "plt.hist(kickst.log_usd_pledged_real, bins = 12)"
   ]
  },
  {
   "cell_type": "markdown",
   "metadata": {},
   "source": [
    " Abaixo"
   ]
  },
  {
   "cell_type": "code",
   "execution_count": 8,
   "metadata": {},
   "outputs": [
    {
     "data": {
      "text/plain": [
       "([array([2.65e+02, 2.36e+02, 4.31e+02, 8.18e+02, 1.04e+03, 9.57e+02,\n",
       "         7.13e+02, 3.61e+02, 9.40e+01, 1.00e+01, 1.00e+00, 0.00e+00]),\n",
       "  array([ 266.,  238.,  438.,  834., 1135., 1399., 1896., 1782.,  780.,\n",
       "          231.,   61.,   16.])],\n",
       " array([-0.27572413,  0.27594028,  0.82760469,  1.3792691 ,  1.93093351,\n",
       "         2.48259792,  3.03426233,  3.58592674,  4.13759115,  4.68925556,\n",
       "         5.24091997,  5.79258438,  6.3442488 ]),\n",
       " <a list of 2 Lists of Patches objects>)"
      ]
     },
     "execution_count": 8,
     "metadata": {},
     "output_type": "execute_result"
    },
    {
     "data": {
      "image/png": "[encoded data removed]",
      "text/plain": [
       "<Figure size 432x288 with 1 Axes>"
      ]
     },
     "metadata": {
      "needs_background": "light"
     },
     "output_type": "display_data"
    }
   ],
   "source": [
    "plt.hist([kickst[kickst.state == \"failed\"].log_usd_pledged_real, kickst[kickst.state == \"successful\"].log_usd_pledged_real], stacked=True, bins = 12)"
   ]
  },
  {
   "cell_type": "markdown",
   "metadata": {},
   "source": [
    " No gráfico abaixo, analisamos agora o ratio, vendo a relação entre a meta e o valor arrecadado, e vemos que a distribuição é semelhante ao longo de todo o espectro a partir de US$100."
   ]
  },
  {
   "cell_type": "code",
   "execution_count": 9,
   "metadata": {},
   "outputs": [
    {
     "data": {
      "text/plain": [
       "<matplotlib.collections.PathCollection at 0x1a2a75d860>"
      ]
     },
     "execution_count": 9,
     "metadata": {},
     "output_type": "execute_result"
    },
    {
     "data": {
      "image/png": "[encoded data removed]",
      "text/plain": [
       "<Figure size 432x288 with 1 Axes>"
      ]
     },
     "metadata": {
      "needs_background": "light"
     },
     "output_type": "display_data"
    }
   ],
   "source": [
    "plt.scatter(y = 'log_pledged_ratio', x = 'log_usd_goal_real', data=kickst[kickst.state == \"successful\"], alpha= 0.5)"
   ]
  }
 ],
 "metadata": {
  "file_extension": ".py",
  "kernelspec": {
   "display_name": "Python 3",
   "language": "python",
   "name": "python3"
  },
  "language_info": {
   "codemirror_mode": {
    "name": "ipython",
    "version": 3
   },
   "file_extension": ".py",
   "mimetype": "text/x-python",
   "name": "python",
   "nbconvert_exporter": "python",
   "pygments_lexer": "ipython3",
   "version": "3.7.3"
  },
  "mimetype": "text/x-python",
  "name": "python",
  "npconvert_exporter": "python",
  "pygments_lexer": "ipython3",
  "version": 3
 },
 "nbformat": 4,
 "nbformat_minor": 2
}
